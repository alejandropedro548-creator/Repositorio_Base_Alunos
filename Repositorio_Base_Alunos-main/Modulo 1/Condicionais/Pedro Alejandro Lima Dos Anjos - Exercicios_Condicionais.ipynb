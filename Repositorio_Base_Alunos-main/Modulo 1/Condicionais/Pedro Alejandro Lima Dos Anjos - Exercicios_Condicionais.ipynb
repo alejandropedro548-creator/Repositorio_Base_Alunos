{
 "cells": [
  {
   "cell_type": "markdown",
   "id": "633160a3",
   "metadata": {},
   "source": [
    "### 📝Lista de Exercícios: Condicionais IF/ELSE"
   ]
  },
  {
   "cell_type": "markdown",
   "id": "605d2a7e",
   "metadata": {},
   "source": [
    "Exercício 1 - Maioridade 🔞\n",
    "\n",
    "Crie um programa que pergunta a idade do usuário e diz se ele é maior ou menor de idade."
   ]
  },
  {
   "cell_type": "code",
   "execution_count": 2,
   "id": "93ea230f",
   "metadata": {},
   "outputs": [
    {
     "name": "stdout",
     "output_type": "stream",
     "text": [
      "Menor de idade\n"
     ]
    }
   ],
   "source": [
    "idade = int(input('\"Quantos anos você tem'))\n",
    "if idade >= 18:\n",
    "    print('Maior de idade')\n",
    "else:\n",
    "    print('Menor de idade')"
   ]
  },
  {
   "cell_type": "markdown",
   "id": "6e9528f5",
   "metadata": {},
   "source": [
    "Exercício 2 - Aprovação na Prova 🧠\n",
    "\n",
    "Faça um programa que pergunte a nota de um aluno (0 a 10) e diz se ele foi aprovado(nota >= 5) ou reprovado (nota <5)."
   ]
  },
  {
   "cell_type": "code",
   "execution_count": 3,
   "id": "4a9f8f8b",
   "metadata": {},
   "outputs": [
    {
     "name": "stdout",
     "output_type": "stream",
     "text": [
      "você foi aprovado\n"
     ]
    }
   ],
   "source": [
    "nota = float(input(\"Informe a sua nota de (0 a 10)\"))\n",
    "if nota >=5:\n",
    "    print(\"você foi aprovado\")\n",
    "else:\n",
    "    print(\"você foi reprovado\")\n"
   ]
  },
  {
   "cell_type": "markdown",
   "id": "9f8e9b92",
   "metadata": {},
   "source": [
    "Exercicio 3 - CNH 🚘🚙\n",
    "\n",
    " 1º - Peça ao usuário que digite a idade dele.\n",
    "\n",
    " 2º - Peça pra ele dizer se foi aprovado ou reprovado no curso de cnh.\n",
    "\n",
    " 3º - Use if e else para verificar se ele tem 18 anos ou mais e se foi aprovado.\n",
    "\n",
    " 4º - Se as condições do passo 3 estiverem certas, print(\"pode dirigir\").\n",
    " \n",
    " 5º - Se não print(\"vai andar a pé\")"
   ]
  },
  {
   "cell_type": "code",
   "execution_count": 4,
   "id": "bee9f043",
   "metadata": {},
   "outputs": [
    {
     "name": "stdout",
     "output_type": "stream",
     "text": [
      "vai andar a pé\n"
     ]
    }
   ],
   "source": [
    "idade = int(input('Qual é a sua idade?'))\n",
    "\n",
    "if idade >= 18:\n",
    "\n",
    "    cnh = int(input('Você tem habilitação? (1 para sim/ 2 para não)'))\n",
    "    if cnh == 1:\n",
    "        print('Pode dirigir')\n",
    "    else:\n",
    "        print('vai andar a pé')\n",
    "\n",
    "else:\n",
    "    print('vai andar a pé')"
   ]
  },
  {
   "cell_type": "markdown",
   "id": "e9c60d12",
   "metadata": {},
   "source": [
    "Exercício 4 - Calculadora de Desconto. 💵 🤑\n",
    "\n",
    "Uma loja dá 10% de desconto para compras acima de R$ 100,00. Faça um programa que:\n",
    "\n",
    "1º - Pergunta o valor da compra.\n",
    "\n",
    "2º - Calcula o valor final com desconto (se aplicável).\n",
    "\n",
    "3º - Mostra o valor a pagar."
   ]
  },
  {
   "cell_type": "code",
   "execution_count": 78,
   "id": "5edc8855",
   "metadata": {},
   "outputs": [
    {
     "name": "stdout",
     "output_type": "stream",
     "text": [
      "10% de desconto em 100.0 fica com desconto de R$14.0. \n"
     ]
    }
   ],
   "source": [
    "valor = float(input(\"digite o valor da sua compra!\"))\n",
    "if valor >= 100:\n",
    "    print(f\"{porcentagem}% de desconto em {valor} fica com desconto de R${resultado}. \")\n",
    "\n",
    "    porcentagem = 10\n",
    "    resultado = (porcentagem / 100) * valor\n",
    "\n",
    "else:\n",
    "    print(f\"você não teve desconto o valor da sua compra foi R${valor}!\")\n"
   ]
  },
  {
   "cell_type": "markdown",
   "id": "ec96b43c",
   "metadata": {},
   "source": [
    "Exercício 5 - Classificação de Notas 🧑‍🎓\n",
    "\n",
    "Pergunte a nota de um aluno e dependendo da nota que ele informar, o classifique de acordo com as regras abaixo:\n",
    "\n",
    "Classifique a nota do aluno:\n",
    "\n",
    "- 9 até 10: \"Excelente\"\n",
    "\n",
    "- 7 até 8.9: \"Bom\"\n",
    "\n",
    "- 5 até 6.9: \"Regular\"\n",
    "\n",
    "- 0 até 4.9: \"Reprovado\"\n",
    "\n",
    "mostre para o aluno a classificação dele através de um print, exemplo print(\"Excelente\")."
   ]
  },
  {
   "cell_type": "code",
   "execution_count": 27,
   "id": "465c6812",
   "metadata": {},
   "outputs": [
    {
     "name": "stdout",
     "output_type": "stream",
     "text": [
      "bom\n"
     ]
    }
   ],
   "source": [
    "nota = float(input(\"digite sua nota!\"))\n",
    "if nota >=9 and 10:\n",
    "    print(\"excelente\")\n",
    "elif nota >=7 and 8.9:\n",
    "    print(\"bom\")\n",
    "elif nota >=5 and 6.9:\n",
    "    print(\"regular\")\n",
    "else:\n",
    "    print(\"reprovado\")\n"
   ]
  },
  {
   "cell_type": "markdown",
   "id": "251b0fa7",
   "metadata": {},
   "source": [
    "Exercício 6 - Acesso ao Sistema 🔑\n",
    "\n",
    "Crie um login simples:\n",
    "\n",
    "- usuario_correto = \"admin\"\n",
    "\n",
    "- senha_correta = \"1234\"\n",
    "\n",
    "**Peça para o usuário digitar primeiro o login e depois a senha, caso login e senha estejam corretos programa deve mostrar \"Acesso permitido\" se não \"Acesso negado\"**\n"
   ]
  },
  {
   "cell_type": "code",
   "execution_count": 60,
   "id": "7fcf16db",
   "metadata": {},
   "outputs": [
    {
     "name": "stdout",
     "output_type": "stream",
     "text": [
      "acesso negado\n"
     ]
    }
   ],
   "source": [
    "usuario_correto = \"admin\"\n",
    "senha_correta = \"1234\"\n",
    "usuario = input(\"digite o nome de usuario\")\n",
    "senha = input(\"digite a senha\")\n",
    "if usuario == usuario_correto and senha == senha_correta:\n",
    "     print(\"acesso permitido\")\n",
    "     \n",
    "else:\n",
    "    print(\"acesso negado\")"
   ]
  },
  {
   "cell_type": "markdown",
   "id": "46c27406",
   "metadata": {},
   "source": [
    "Exercício 7 - Maior Número 📉\n",
    "\n",
    "Peça 3 números e mostre qual é o maior deles."
   ]
  },
  {
   "cell_type": "code",
   "execution_count": 62,
   "id": "916439ff",
   "metadata": {},
   "outputs": [
    {
     "name": "stdout",
     "output_type": "stream",
     "text": [
      "o maior número é 3\n"
     ]
    }
   ],
   "source": [
    "num1 = input(\"digite o primeiro número\")\n",
    "num2 = input(\"digite o segundo número\")\n",
    "num3 = input(\"digite o terceiro número\")\n",
    "maior = max(num1, num2, num3)\n",
    "print(f\"o maior número é {maior}\")"
   ]
  },
  {
   "cell_type": "markdown",
   "id": "984fe0fe",
   "metadata": {},
   "source": [
    "Exercício 8 - Dia da Semana\n",
    "Peça um número de 1 a 7 e mostre o dia da semana correspondente: 📅\n",
    "\n",
    "- 1: Domingo\n",
    "\n",
    "- 2: Segunda\n",
    "\n",
    "- ... até 7: Sábado"
   ]
  },
  {
   "cell_type": "code",
   "execution_count": 3,
   "id": "f34c6fbf",
   "metadata": {},
   "outputs": [
    {
     "name": "stdout",
     "output_type": "stream",
     "text": [
      "sabado\n"
     ]
    }
   ],
   "source": [
    "dia = int (input(\"digite um numero de 1 a 7\"))\n",
    "if dia == 1:\n",
    "    print(\"domingo\")\n",
    "elif dia == 2:\n",
    "    print(\"segunda\")\n",
    "elif dia == 3:\n",
    "    print(\"terça-feira\")\n",
    "elif dia == 4:\n",
    "    print(\"quarta-feira\")\n",
    "elif dia == 5:\n",
    "    print(\"quinta-feira\")\n",
    "elif dia == 6:\n",
    "    print(\"sexta-feira\")\n",
    "else:\n",
    "    print(\"sabado\")"
   ]
  },
  {
   "cell_type": "markdown",
   "id": "f1f760b7",
   "metadata": {},
   "source": [
    "Exercício 9 - Calculadora Simples 📏📐\n",
    "\n",
    "- Faça uma calculadora que:\n",
    "\n",
    "- Pede dois números\n",
    "\n",
    "- Pede a operação (+, -, *, /)\n",
    "\n",
    "- Dependendo da operação mostre o resultado.\n",
    "\n"
   ]
  },
  {
   "cell_type": "code",
   "execution_count": 82,
   "id": "95c6ce03",
   "metadata": {},
   "outputs": [
    {
     "name": "stdout",
     "output_type": "stream",
     "text": [
      "resultado: 1000 * 1000 = 1000000\n"
     ]
    }
   ],
   "source": [
    "numero_1 = int (input(\"digite o primeiro número\"))\n",
    "numero_2 = int (input(\"digite o segundo número\"))\n",
    "operaçao =  (input(\"digite a operaçao(+,-,*,/) \"))\n",
    "if operaçao == \"+\":\n",
    "    resultado = numero_1 + numero_2\n",
    "    print(f\"resultado: {numero_1} + {numero_2} = {resultado}\")\n",
    "elif operaçao == \"-\":\n",
    "    resultado = numero_1 - numero_2\n",
    "    print(f\"resultado: {numero_1} - {numero_2} = {resultado}\")\n",
    "elif operaçao == \"*\":\n",
    "    resultado = numero_1 * numero_2\n",
    "    print(f\"resultado: {numero_1} * {numero_2} = {resultado}\")\n",
    "elif operaçao == \"/\":\n",
    "    resultado = numero_1 / numero_2\n",
    "    print(f\"resultado: {numero_1} / {numero_2} = {resultado}\")\n",
    "    if numero_2 != 0:\n",
    "        resultado = numero_1 / numero_2\n",
    "        print(f\"resultado: {numero_1} / {numero_2} = {resultado}\")\n",
    "    else:\n",
    "        print(\"erro: divisão por zero não é permitida.\")\n",
    "else:\n",
    "    print(\"operação invalida, use apenas +,-,*,/\")"
   ]
  },
  {
   "cell_type": "markdown",
   "id": "f39f6b73",
   "metadata": {},
   "source": [
    "Exercício 10 - Sistema de Multas 🚙🚘🧾\n",
    "\n",
    "\n",
    "- Velocidade máxima: 80 km/h 🚫\n",
    "\n",
    "- Até 80: \"Sem multa\"\n",
    "\n",
    "- 81-100: \"Multa leve\"\n",
    "\n",
    "- Acima de 100: \"Multa grave\""
   ]
  },
  {
   "cell_type": "code",
   "execution_count": 98,
   "id": "20fdc977",
   "metadata": {},
   "outputs": [
    {
     "name": "stdout",
     "output_type": "stream",
     "text": [
      "multa grave 🚫\n"
     ]
    }
   ],
   "source": [
    "velocidade = int (input(\"digite sua velocidade!\"))\n",
    "if velocidade <=80:\n",
    "    print(\"sem multas\")\n",
    "elif velocidade >=81 and  velocidade <= 100:\n",
    "    print(\"multa leve 🚫\")\n",
    "else:\n",
    "    print(\"multa grave 🚫\")\n",
    "\n"
   ]
  }
 ],
 "metadata": {
  "kernelspec": {
   "display_name": "Python 3",
   "language": "python",
   "name": "python3"
  },
  "language_info": {
   "codemirror_mode": {
    "name": "ipython",
    "version": 3
   },
   "file_extension": ".py",
   "mimetype": "text/x-python",
   "name": "python",
   "nbconvert_exporter": "python",
   "pygments_lexer": "ipython3",
   "version": "3.13.2"
  }
 },
 "nbformat": 4,
 "nbformat_minor": 5
}
