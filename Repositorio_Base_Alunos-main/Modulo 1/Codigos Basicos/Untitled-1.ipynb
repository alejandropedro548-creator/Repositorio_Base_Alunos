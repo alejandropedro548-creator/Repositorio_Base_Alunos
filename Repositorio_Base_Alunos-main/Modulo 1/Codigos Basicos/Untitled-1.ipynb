{
 "cells": [
  {
   "cell_type": "code",
   "execution_count": null,
   "id": "55c71df0",
   "metadata": {},
   "outputs": [
    {
     "name": "stdout",
     "output_type": "stream",
     "text": [
      "de acordo com suas escolhas essas foram as musicas adicionadas\n",
      "['2', 'treasure', '24k magic']\n"
     ]
    }
   ],
   "source": [
    "playlist = []\n",
    "for item in range(3):\n",
    "    musica = input(\"Me fala as músicas que você quer adicionar a sua playlist:\")\n",
    "    playlist.append(musica)\n",
    "print(\"de acordo com suas escolhas essas foram as musicas adicionadas:\")\n",
    "\n",
    "print(playlist)"
   ]
  }
 ],
 "metadata": {
  "kernelspec": {
   "display_name": "Python 3",
   "language": "python",
   "name": "python3"
  },
  "language_info": {
   "codemirror_mode": {
    "name": "ipython",
    "version": 3
   },
   "file_extension": ".py",
   "mimetype": "text/x-python",
   "name": "python",
   "nbconvert_exporter": "python",
   "pygments_lexer": "ipython3",
   "version": "3.13.2"
  }
 },
 "nbformat": 4,
 "nbformat_minor": 5
}
