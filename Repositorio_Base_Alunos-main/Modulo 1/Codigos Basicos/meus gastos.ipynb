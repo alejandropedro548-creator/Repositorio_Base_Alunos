{
 "cells": [
  {
   "cell_type": "markdown",
   "id": "ddff009c",
   "metadata": {},
   "source": [
    "### CLT"
   ]
  },
  {
   "cell_type": "code",
   "execution_count": null,
   "id": "5b8b8124",
   "metadata": {},
   "outputs": [
    {
     "name": "stdout",
     "output_type": "stream",
     "text": [
      "o que sobrou foi 2215 \n"
     ]
    }
   ],
   "source": [
    "salario = 4700\n",
    "aluguel = 850\n",
    "alimentos =  900\n",
    "luz = 100 \n",
    "agua = 100\n",
    "internet = 85\n",
    "gas = 150\n",
    "entretenimento = 300\n",
    "total_gasto = aluguel+alimentos+luz+agua+internet+gas+entretenimento\n",
    "print (f\"o que sobrou foi {salario - total_gasto} \")"
   ]
  }
 ],
 "metadata": {
  "kernelspec": {
   "display_name": "Python 3",
   "language": "python",
   "name": "python3"
  },
  "language_info": {
   "codemirror_mode": {
    "name": "ipython",
    "version": 3
   },
   "file_extension": ".py",
   "mimetype": "text/x-python",
   "name": "python",
   "nbconvert_exporter": "python",
   "pygments_lexer": "ipython3",
   "version": "3.13.2"
  }
 },
 "nbformat": 4,
 "nbformat_minor": 5
}
