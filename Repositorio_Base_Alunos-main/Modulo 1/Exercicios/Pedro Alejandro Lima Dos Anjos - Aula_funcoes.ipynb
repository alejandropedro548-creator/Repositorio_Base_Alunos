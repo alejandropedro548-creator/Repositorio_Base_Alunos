{
  "cells": [
    {
      "cell_type": "markdown",
      "id": "ace65234",
      "metadata": {
        "id": "ace65234"
      },
      "source": [
        "# Funções em Python"
      ]
    },
    {
      "cell_type": "markdown",
      "id": "8103b2af",
      "metadata": {
        "id": "8103b2af"
      },
      "source": [
        "### O que é uma função?\n",
        "Uma função em Python é como uma receita de bolo, ou um passo a passo que você escreve uma vez e pode usar várias vezes, sempre que precisar."
      ]
    },
    {
      "cell_type": "markdown",
      "id": "6ac020cd",
      "metadata": {
        "id": "6ac020cd"
      },
      "source": [
        "###  Por que usar funções?\n",
        "- ✅ Para não repetir código desnecessariamente\n",
        "- ✅ Para organizar melhor o programa\n",
        "- ✅ Para deixar o código mais fácil de entender\n",
        "- ✅ Para reaproveitar partes do código em vários lugares"
      ]
    },
    {
      "cell_type": "markdown",
      "id": "dcad8e70",
      "metadata": {
        "id": "dcad8e70"
      },
      "source": [
        "## Como criar uma função?\n",
        "- def → Palavra-chave que indica que você está criando uma função.\n",
        "\n",
        "- nome_da_funcao → O nome que você escolhe para a função (sem espaços, use _ se precisar).\n",
        "\n",
        "- () → Os parênteses podem receber informações (chamadas de parâmetros), se a função precisar."
      ]
    },
    {
      "cell_type": "code",
      "execution_count": 85,
      "id": "491717ea",
      "metadata": {
        "id": "491717ea"
      },
      "outputs": [],
      "source": [
        "def nome_da_funcao():\n",
        "    # comandos que a função executa\n",
        "    print('Isso é uma função')"
      ]
    },
    {
      "cell_type": "markdown",
      "id": "bcfe6a87",
      "metadata": {
        "id": "bcfe6a87"
      },
      "source": [
        "Para chamar a função, escrevemos o nome dela e colocamos parênteses(não se esqueça dos parênteses)"
      ]
    },
    {
      "cell_type": "code",
      "execution_count": 86,
      "id": "4a485369",
      "metadata": {
        "id": "4a485369",
        "outputId": "d8d1199d-81c5-4093-9739-d69910333322"
      },
      "outputs": [
        {
          "name": "stdout",
          "output_type": "stream",
          "text": [
            "Isso é uma função\n"
          ]
        }
      ],
      "source": [
        "nome_da_funcao()"
      ]
    },
    {
      "cell_type": "markdown",
      "id": "4adcf792",
      "metadata": {
        "id": "4adcf792"
      },
      "source": [
        "## Exemplo 1: Função simples (Sem parâmetros)"
      ]
    },
    {
      "cell_type": "code",
      "execution_count": 87,
      "id": "56f5a9db",
      "metadata": {
        "id": "56f5a9db",
        "outputId": "3cae501b-0616-46ec-af6f-5e812c7b88e9"
      },
      "outputs": [
        {
          "name": "stdout",
          "output_type": "stream",
          "text": [
            "Olá, tudo bem?\n"
          ]
        }
      ],
      "source": [
        "def dizer_ola():\n",
        "    print(\"Olá, tudo bem?\")\n",
        "\n",
        "dizer_ola()"
      ]
    },
    {
      "cell_type": "code",
      "execution_count": 88,
      "id": "f0b52a93",
      "metadata": {},
      "outputs": [
        {
          "name": "stdout",
          "output_type": "stream",
          "text": [
            "--------------------\n"
          ]
        }
      ],
      "source": [
        "def desenhar_linha():  \n",
        "    print(\"-\" * 20)  \n",
        "\n",
        "desenhar_linha()  "
      ]
    },
    {
      "cell_type": "markdown",
      "id": "6f88792b",
      "metadata": {
        "id": "6f88792b"
      },
      "source": [
        "## Exemplo 2: Função com parâmetros (Recebendo informações)"
      ]
    },
    {
      "cell_type": "code",
      "execution_count": 89,
      "id": "b0b0baa9",
      "metadata": {
        "id": "b0b0baa9",
        "outputId": "b09b94e2-e854-4746-cc33-f218f992da0a"
      },
      "outputs": [
        {
          "name": "stdout",
          "output_type": "stream",
          "text": [
            "Oi, Matheus tchola! Seja bem-vindo!\n"
          ]
        }
      ],
      "source": [
        "def cumprimentar(nome):\n",
        "    print(f\"Oi, {nome}! Seja bem-vindo!\")\n",
        "\n",
        "cumprimentar(\"Matheus tchola\")"
      ]
    },
    {
      "cell_type": "markdown",
      "id": "10a830eb",
      "metadata": {
        "id": "10a830eb"
      },
      "source": [
        "## Exemplo 3: Função que retorna um resultado"
      ]
    },
    {
      "cell_type": "code",
      "execution_count": 90,
      "id": "6c0e4d93",
      "metadata": {
        "id": "6c0e4d93"
      },
      "outputs": [],
      "source": [
        "def somar(primeiro_numero, segundo_numero):\n",
        "    return primeiro_numero + segundo_numero\n"
      ]
    },
    {
      "cell_type": "code",
      "execution_count": 91,
      "id": "6c33cd3c",
      "metadata": {
        "id": "6c33cd3c",
        "outputId": "a5800ed2-6317-4fd4-b529-ba062d36b2ec"
      },
      "outputs": [
        {
          "name": "stdout",
          "output_type": "stream",
          "text": [
            "95\n"
          ]
        }
      ],
      "source": [
        "resultado = somar(80, 15)\n",
        "print(resultado)\n"
      ]
    },
    {
      "cell_type": "markdown",
      "id": "2c391876",
      "metadata": {
        "id": "2c391876"
      },
      "source": [
        "## Exemplo 4: Função com cálculo"
      ]
    },
    {
      "cell_type": "code",
      "execution_count": 92,
      "id": "fe4496ac",
      "metadata": {
        "id": "fe4496ac"
      },
      "outputs": [],
      "source": [
        "def calcular_media(nota1, nota2, nota3):\n",
        "    media = (nota1 + nota2 + nota3) / 3\n",
        "    return media\n"
      ]
    },
    {
      "cell_type": "code",
      "execution_count": 93,
      "id": "abe528f2",
      "metadata": {
        "id": "abe528f2",
        "outputId": "e2491d96-fa11-4b71-8167-1341a5c883e3"
      },
      "outputs": [
        {
          "name": "stdout",
          "output_type": "stream",
          "text": [
            "Sua média foi: 8.166666666666666\n"
          ]
        }
      ],
      "source": [
        "media_final = calcular_media(7, 8.5, 9)\n",
        "print(f\"Sua média foi: {media_final}\")\n"
      ]
    },
    {
      "cell_type": "markdown",
      "id": "27875734",
      "metadata": {
        "id": "27875734"
      },
      "source": [
        "## 📌 Resumo da Estrutura de uma Função"
      ]
    },
    {
      "cell_type": "markdown",
      "id": "f66ee857",
      "metadata": {
        "id": "f66ee857"
      },
      "source": [
        "| Termo             | Significado                     |\n",
        "| ----------------- | ------------------------------- |\n",
        "| `def`             | Início da definição da função   |\n",
        "| Nome da função    | Nome que você escolhe para ela  |\n",
        "| Parâmetros        | Dados que a função pode receber |\n",
        "| `return`          | Faz a função devolver um valor  |\n",
        "| Chamada da função | Quando você manda ela rodar     |\n"
      ]
    },
    {
      "cell_type": "markdown",
      "id": "1c651b70",
      "metadata": {
        "id": "1c651b70"
      },
      "source": [
        "### ✅ Dicas importantes:\n",
        "Dê nomes claros às suas funções. Exemplo: calcular_area(), mostrar_mensagem().\n",
        "\n",
        "Se a função precisar de informações, use parâmetros dentro dos parênteses.\n",
        "\n",
        "Se quiser que a função te devolva algum resultado, use o return."
      ]
    },
    {
      "cell_type": "markdown",
      "id": "097faa09",
      "metadata": {
        "id": "097faa09"
      },
      "source": [
        "# Exercícios"
      ]
    },
    {
      "cell_type": "markdown",
      "id": "1ed8607e",
      "metadata": {
        "id": "1ed8607e"
      },
      "source": [
        "### 1 - Crie uma função chamada `mostrar_boas_vindas`() que exibe uma mensagem de boas-vindas."
      ]
    },
    {
      "cell_type": "code",
      "execution_count": 94,
      "id": "f3c1ffe8",
      "metadata": {
        "id": "f3c1ffe8"
      },
      "outputs": [
        {
          "ename": "KeyboardInterrupt",
          "evalue": "Interrupted by user",
          "output_type": "error",
          "traceback": [
            "\u001b[31m---------------------------------------------------------------------------\u001b[39m",
            "\u001b[31mKeyboardInterrupt\u001b[39m                         Traceback (most recent call last)",
            "\u001b[36mCell\u001b[39m\u001b[36m \u001b[39m\u001b[32mIn[94]\u001b[39m\u001b[32m, line 2\u001b[39m\n\u001b[32m      1\u001b[39m \u001b[38;5;66;03m# Crie sua função aqui\u001b[39;00m\n\u001b[32m----> \u001b[39m\u001b[32m2\u001b[39m nome = \u001b[38;5;28;43minput\u001b[39;49m\u001b[43m(\u001b[49m\u001b[33;43m\"\u001b[39;49m\u001b[33;43mDigite seu nome\u001b[39;49m\u001b[33;43m\"\u001b[39;49m\u001b[43m)\u001b[49m\n\u001b[32m      3\u001b[39m \u001b[38;5;28;01mdef\u001b[39;00m\u001b[38;5;250m \u001b[39m\u001b[34mmostrar_boas_vindas\u001b[39m():\n\u001b[32m      4\u001b[39m     \u001b[38;5;28mprint\u001b[39m(\u001b[33mf\u001b[39m\u001b[33m\"\u001b[39m\u001b[33mOi, \u001b[39m\u001b[38;5;132;01m{\u001b[39;00mnome\u001b[38;5;132;01m}\u001b[39;00m\u001b[33m! Seja bem-vindo!\u001b[39m\u001b[33m\"\u001b[39m)\n",
            "\u001b[36mFile \u001b[39m\u001b[32m~\\AppData\\Roaming\\Python\\Python313\\site-packages\\ipykernel\\kernelbase.py:1275\u001b[39m, in \u001b[36mKernel.raw_input\u001b[39m\u001b[34m(self, prompt)\u001b[39m\n\u001b[32m   1273\u001b[39m     msg = \u001b[33m\"\u001b[39m\u001b[33mraw_input was called, but this frontend does not support input requests.\u001b[39m\u001b[33m\"\u001b[39m\n\u001b[32m   1274\u001b[39m     \u001b[38;5;28;01mraise\u001b[39;00m StdinNotImplementedError(msg)\n\u001b[32m-> \u001b[39m\u001b[32m1275\u001b[39m \u001b[38;5;28;01mreturn\u001b[39;00m \u001b[38;5;28;43mself\u001b[39;49m\u001b[43m.\u001b[49m\u001b[43m_input_request\u001b[49m\u001b[43m(\u001b[49m\n\u001b[32m   1276\u001b[39m \u001b[43m    \u001b[49m\u001b[38;5;28;43mstr\u001b[39;49m\u001b[43m(\u001b[49m\u001b[43mprompt\u001b[49m\u001b[43m)\u001b[49m\u001b[43m,\u001b[49m\n\u001b[32m   1277\u001b[39m \u001b[43m    \u001b[49m\u001b[38;5;28;43mself\u001b[39;49m\u001b[43m.\u001b[49m\u001b[43m_parent_ident\u001b[49m\u001b[43m[\u001b[49m\u001b[33;43m\"\u001b[39;49m\u001b[33;43mshell\u001b[39;49m\u001b[33;43m\"\u001b[39;49m\u001b[43m]\u001b[49m\u001b[43m,\u001b[49m\n\u001b[32m   1278\u001b[39m \u001b[43m    \u001b[49m\u001b[38;5;28;43mself\u001b[39;49m\u001b[43m.\u001b[49m\u001b[43mget_parent\u001b[49m\u001b[43m(\u001b[49m\u001b[33;43m\"\u001b[39;49m\u001b[33;43mshell\u001b[39;49m\u001b[33;43m\"\u001b[39;49m\u001b[43m)\u001b[49m\u001b[43m,\u001b[49m\n\u001b[32m   1279\u001b[39m \u001b[43m    \u001b[49m\u001b[43mpassword\u001b[49m\u001b[43m=\u001b[49m\u001b[38;5;28;43;01mFalse\u001b[39;49;00m\u001b[43m,\u001b[49m\n\u001b[32m   1280\u001b[39m \u001b[43m\u001b[49m\u001b[43m)\u001b[49m\n",
            "\u001b[36mFile \u001b[39m\u001b[32m~\\AppData\\Roaming\\Python\\Python313\\site-packages\\ipykernel\\kernelbase.py:1320\u001b[39m, in \u001b[36mKernel._input_request\u001b[39m\u001b[34m(self, prompt, ident, parent, password)\u001b[39m\n\u001b[32m   1317\u001b[39m \u001b[38;5;28;01mexcept\u001b[39;00m \u001b[38;5;167;01mKeyboardInterrupt\u001b[39;00m:\n\u001b[32m   1318\u001b[39m     \u001b[38;5;66;03m# re-raise KeyboardInterrupt, to truncate traceback\u001b[39;00m\n\u001b[32m   1319\u001b[39m     msg = \u001b[33m\"\u001b[39m\u001b[33mInterrupted by user\u001b[39m\u001b[33m\"\u001b[39m\n\u001b[32m-> \u001b[39m\u001b[32m1320\u001b[39m     \u001b[38;5;28;01mraise\u001b[39;00m \u001b[38;5;167;01mKeyboardInterrupt\u001b[39;00m(msg) \u001b[38;5;28;01mfrom\u001b[39;00m\u001b[38;5;250m \u001b[39m\u001b[38;5;28;01mNone\u001b[39;00m\n\u001b[32m   1321\u001b[39m \u001b[38;5;28;01mexcept\u001b[39;00m \u001b[38;5;167;01mException\u001b[39;00m:\n\u001b[32m   1322\u001b[39m     \u001b[38;5;28mself\u001b[39m.log.warning(\u001b[33m\"\u001b[39m\u001b[33mInvalid Message:\u001b[39m\u001b[33m\"\u001b[39m, exc_info=\u001b[38;5;28;01mTrue\u001b[39;00m)\n",
            "\u001b[31mKeyboardInterrupt\u001b[39m: Interrupted by user"
          ]
        }
      ],
      "source": [
        "# Crie sua função aqui\n",
        "nome = input(\"Digite seu nome\")\n",
        "def mostrar_boas_vindas():\n",
        "    print(f\"Oi, {nome}! Seja bem-vindo!\")\n",
        "\n",
        "cumprimentar(nome)\n"
      ]
    },
    {
      "cell_type": "code",
      "execution_count": null,
      "id": "e85c589c",
      "metadata": {
        "id": "e85c589c",
        "outputId": "f8a67805-8d22-451e-b3dc-d561b0467ff3"
      },
      "outputs": [
        {
          "name": "stdout",
          "output_type": "stream",
          "text": [
            "Oi, pedro! Seja bem-vindo!\n"
          ]
        }
      ],
      "source": [
        "mostrar_boas_vindas()"
      ]
    },
    {
      "cell_type": "markdown",
      "id": "b80b5f99",
      "metadata": {
        "id": "b80b5f99"
      },
      "source": [
        "### 2 - Crie uma função `dobro`(numero) que receba um número e retorne o dobro dele."
      ]
    },
    {
      "cell_type": "code",
      "execution_count": null,
      "id": "553b9385",
      "metadata": {
        "id": "553b9385"
      },
      "outputs": [],
      "source": [
        "# Crie sua função aqui\n",
        "def dobro(numero):\n",
        "    return numero * 2\n",
        "\n"
      ]
    },
    {
      "cell_type": "code",
      "execution_count": null,
      "id": "0908bfae",
      "metadata": {
        "id": "0908bfae",
        "outputId": "0e4e796f-6d39-4544-cee1-df87f4f43c97"
      },
      "outputs": [
        {
          "name": "stdout",
          "output_type": "stream",
          "text": [
            "10.0\n"
          ]
        }
      ],
      "source": [
        "numero = float(input(\"digite um numero\"))\n",
        "resultado = dobro(numero)\n",
        "print(resultado)"
      ]
    },
    {
      "cell_type": "code",
      "execution_count": null,
      "id": "7d60e4db",
      "metadata": {
        "id": "7d60e4db"
      },
      "outputs": [],
      "source": []
    },
    {
      "cell_type": "markdown",
      "id": "fff68710",
      "metadata": {
        "id": "fff68710"
      },
      "source": [
        "### 3 - Crie uma função `verificar_idade`(idade) que informe se a pessoa é maior ou menor de idade."
      ]
    },
    {
      "cell_type": "code",
      "execution_count": null,
      "id": "eff87652",
      "metadata": {
        "id": "eff87652"
      },
      "outputs": [],
      "source": [
        "# Crie sua função aqui\n",
        "def verificar_idade(idade):\n",
        "    if idade >= 18:\n",
        "        print(\"Parabéns, você é de maior\")\n",
        "    else:\n",
        "        print(\"Você ainda não é de maior\")"
      ]
    },
    {
      "cell_type": "code",
      "execution_count": null,
      "id": "23e0fdb0",
      "metadata": {
        "id": "23e0fdb0",
        "outputId": "df4d9457-2ea3-44b8-9c96-ca268bbe0496"
      },
      "outputs": [
        {
          "name": "stdout",
          "output_type": "stream",
          "text": [
            "Parabéns, você é de maior\n"
          ]
        }
      ],
      "source": [
        "verificar_idade(18)"
      ]
    },
    {
      "cell_type": "code",
      "execution_count": null,
      "id": "dd3adfe2",
      "metadata": {
        "id": "dd3adfe2",
        "outputId": "59065d4e-ce0e-4b17-9422-3ce1f5f15c2b"
      },
      "outputs": [
        {
          "name": "stdout",
          "output_type": "stream",
          "text": [
            "Você ainda não é de maior\n"
          ]
        }
      ],
      "source": [
        "verificar_idade(16)"
      ]
    },
    {
      "cell_type": "markdown",
      "id": "25acc1e1",
      "metadata": {},
      "source": [
        "### 4 - Calculadora de Idade 🎂\n",
        "\n",
        "Crie uma função calcular_idade(ano_nascimento) que retorna a idade atual."
      ]
    },
    {
      "cell_type": "code",
      "execution_count": 98,
      "id": "61ee9a00",
      "metadata": {},
      "outputs": [],
      "source": [
        "ano_atual = 2025\n",
        "def calcular_idade(ano_nascimento, ano_atual):\n",
        "     idade = ano_atual - ano_nascimento\n",
        "     return idade"
      ]
    },
    {
      "cell_type": "code",
      "execution_count": 99,
      "id": "bcc2f51a",
      "metadata": {},
      "outputs": [
        {
          "name": "stdout",
          "output_type": "stream",
          "text": [
            "16\n"
          ]
        }
      ],
      "source": [
        "print(calcular_idade(2009, 2025))"
      ]
    },
    {
      "cell_type": "markdown",
      "id": "e31412bc",
      "metadata": {},
      "source": [
        "### 🔍 Parte 2: Funções + Listas + Loops\n",
        "\n",
        "2.1 Função que Recebe uma Lista\n",
        "\n"
      ]
    },
    {
      "cell_type": "code",
      "execution_count": null,
      "id": "35707848",
      "metadata": {},
      "outputs": [
        {
          "name": "stdout",
          "output_type": "stream",
          "text": [
            "10\n"
          ]
        }
      ],
      "source": [
        "def maior_numero(lista):  \n",
        "    maior = lista[0]  \n",
        "    for num in lista:  \n",
        "        if num > maior:  \n",
        "            maior = num  \n",
        "    return maior  \n",
        "\n",
        "numeros = [4, 8, 2, 10, 5]  \n",
        "print(maior_numero(numeros))  # Saída: 10  "
      ]
    },
    {
      "cell_type": "markdown",
      "id": "202a8f2e",
      "metadata": {},
      "source": [
        "2.2 Função que Modifica uma Lista\n",
        "\n"
      ]
    },
    {
      "cell_type": "code",
      "execution_count": null,
      "id": "c56ebdea",
      "metadata": {},
      "outputs": [
        {
          "name": "stdout",
          "output_type": "stream",
          "text": [
            "['Maçã 🍎', 'Banana 🍎', 'Morango 🍎']\n"
          ]
        }
      ],
      "source": [
        "def adicionar_emoji(lista_palavras, emoji):  \n",
        "    for i in range(len(lista_palavras)):  \n",
        "        lista_palavras[i] += \" \" + emoji  \n",
        "\n",
        "frutas = [\"Maçã\", \"Banana\", \"Morango\"]  \n",
        "adicionar_emoji(frutas, \"🍎\")  \n",
        "print(frutas) \n",
        "\n"
      ]
    },
    {
      "cell_type": "markdown",
      "id": "d64e5325",
      "metadata": {},
      "source": [
        "### 📚 Parte 3: Documentando Funções com Docstrings\n",
        "\n",
        "\n",
        "🔍 O que são Docstrings?\n",
        "\n",
        "- São strings de documentação que explicam o que uma função faz, seus parâmetros e o que retorna.\n",
        "\n",
        "- Ajudam outros programadores (e você mesmo no futuro!) a entender seu código.\n",
        "\n",
        "- São acessíveis via help() ou .__doc__."
      ]
    },
    {
      "cell_type": "markdown",
      "id": "7cab7d43",
      "metadata": {},
      "source": [
        "Sintaxe Básica"
      ]
    },
    {
      "cell_type": "code",
      "execution_count": null,
      "id": "d985e12e",
      "metadata": {},
      "outputs": [],
      "source": [
        "def soma(a, b):  \n",
        "    \"\"\"  \n",
        "    Calcula a soma de dois números.  \n",
        "\n",
        "    Parâmetros:  \n",
        "    a (int ou float): Primeiro número.  \n",
        "    b (int ou float): Segundo número.  \n",
        "\n",
        "    Retorna:  \n",
        "    int ou float: Resultado da soma.  \n",
        "    \"\"\"  \n",
        "    return a + b  \n"
      ]
    },
    {
      "cell_type": "code",
      "execution_count": null,
      "id": "b7b88811",
      "metadata": {},
      "outputs": [
        {
          "data": {
            "text/plain": [
              "15"
            ]
          },
          "execution_count": 15,
          "metadata": {},
          "output_type": "execute_result"
        }
      ],
      "source": [
        "soma(10,5)"
      ]
    },
    {
      "cell_type": "markdown",
      "id": "0ddb9cdf",
      "metadata": {},
      "source": [
        "Como Acessar a Documentação?"
      ]
    },
    {
      "cell_type": "code",
      "execution_count": null,
      "id": "75d9b920",
      "metadata": {},
      "outputs": [],
      "source": [
        "# Método 1: help()  \n",
        "help(soma)  \n",
        "\n",
        "# Método 2: .__doc__  \n",
        "print(soma.__doc__)  "
      ]
    },
    {
      "cell_type": "markdown",
      "id": "b08b8edf",
      "metadata": {},
      "source": [
        "### 🏆 Desafio Final: Criando um Mini-Projeto\n",
        "\n",
        "Projeto: Gerador de Memes 🤣\n",
        "\n",
        "Crie uma função gerar_meme(texto_cima, texto_baixo) que:\n",
        "\n",
        "- Recebe dois textos.\n",
        "\n",
        "- Coloca o primeiro no topo e o segundo na base, em letras maiúsculas.\n",
        "\n",
        "- Use os docstrings para documentar a sua função dizendo o que ela faz."
      ]
    },
    {
      "cell_type": "code",
      "execution_count": 104,
      "id": "1a459a86",
      "metadata": {},
      "outputs": [],
      "source": [
        "def gerar_meme(texto_acima, texto_abaixo):\n",
        "    \"\"\"Recebe dois textos e coloca um acima e outro abaixo\"\"\"\n",
        "    print(texto_acima)\n",
        "    print(\"🔥❤️😍⚠️😒😊👌😎😘😂🤣💕 ---BRUTAL---\")\n",
        "    print(\"*\" * 60)\n",
        "    print(texto_abaixo)"
      ]
    },
    {
      "cell_type": "code",
      "execution_count": 105,
      "id": "25424046",
      "metadata": {},
      "outputs": [
        {
          "name": "stdout",
          "output_type": "stream",
          "text": [
            "imunes\n",
            "🔥❤️😍⚠️😒😊👌😎😘😂🤣💕 ---BRUTAL---\n",
            "************************************************************\n",
            "ao conhecimento\n"
          ]
        }
      ],
      "source": [
        "gerar_meme(\"imunes\", \"ao conhecimento\")"
      ]
    },
    {
      "cell_type": "markdown",
      "id": "4703b8bd",
      "metadata": {},
      "source": [
        "### Padrões Recomendados\n",
        "\n",
        "- Use aspas triplas (\"\"\").\n",
        "\n",
        "- Descreva o que a função faz, parâmetros e retorno.\n",
        "\n",
        "- Siga o estilo Google, NumPy ou Sphinx (exemplo acima é Google)."
      ]
    },
    {
      "cell_type": "markdown",
      "id": "185d01cd",
      "metadata": {},
      "source": [
        "🎯 Por que Docstrings São Legais?\n",
        "\n",
        "✅ Autoexplicação: Seu código fica fácil de entender sem comentários extras.\n",
        "\n",
        "\n",
        "✅ Futuro-professão: Você (ou outros) saberão como usar a função daqui a 6 meses!\n",
        "\n",
        "\n",
        "✅ Profissional: Bibliotecas como NumPy e Pandas usam docstrings extensivamente.\n",
        "\n"
      ]
    },
    {
      "cell_type": "markdown",
      "id": "c00062e5",
      "metadata": {},
      "source": [
        "### 📢 Discussão Final\n",
        "\n",
        "- \"Quais vantagens vocês viram em usar docstrings?\"\n",
        "\n",
        "- \"Como isso ajudaria em um projeto em grupo?\"\n",
        "\n",
        "👉 Próximos passos:\n",
        "\n",
        "- Explorar ferramentas como Sphinx para gerar documentação automática.\n",
        "\n",
        "- Praticar docstrings em todas as funções dos exercícios anteriores!\n",
        "\n",
        "🎉 Lembre-se:\n",
        "\n",
        "\"Código bem documentado é código bem cuidado!\" 💚\n",
        "\n",
        "\n",
        "\n",
        "\n",
        "Agora sim, aula completa! 🚀😃"
      ]
    }
  ],
  "metadata": {
    "colab": {
      "provenance": []
    },
    "kernelspec": {
      "display_name": "Python 3",
      "language": "python",
      "name": "python3"
    },
    "language_info": {
      "codemirror_mode": {
        "name": "ipython",
        "version": 3
      },
      "file_extension": ".py",
      "mimetype": "text/x-python",
      "name": "python",
      "nbconvert_exporter": "python",
      "pygments_lexer": "ipython3",
      "version": "3.13.2"
    }
  },
  "nbformat": 4,
  "nbformat_minor": 5
}
