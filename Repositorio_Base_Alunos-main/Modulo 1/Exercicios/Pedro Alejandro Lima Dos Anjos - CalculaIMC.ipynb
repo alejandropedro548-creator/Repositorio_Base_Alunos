{
 "cells": [
  {
   "cell_type": "markdown",
   "id": "38c41445",
   "metadata": {},
   "source": [
    "### 📚 Atividade Prática: Calculadora de IMC com Recomendações"
   ]
  },
  {
   "cell_type": "code",
   "execution_count": null,
   "id": "c5cffdbe",
   "metadata": {},
   "outputs": [],
   "source": [
    "### 🔍 Objetivo da Atividade\n",
    "\n",
    "Nesta atividade, você criará uma Calculadora de IMC (Índice de Massa Corporal) em Python usando estruturas condicionais (if, elif, else). \n",
    "\n",
    "\n",
    "\n",
    "\n",
    "O programa deverá:\n",
    "\n",
    "\n",
    "![image.png](attachment:image.png)"
   ]
  },
  {
   "cell_type": "markdown",
   "id": "9eb0315e",
   "metadata": {},
   "source": [
    "### 📌 Requisitos do Código\n",
    "\n",
    "\n",
    "✅ Entrada de Dados:\n",
    "\n",
    "\n",
    "Utilize input() para receber peso (kg) e altura (m).\n",
    "\n",
    "Certifique-se de que os valores sejam números positivos (valide isso!).\n",
    "\n",
    "\n"
   ]
  },
  {
   "cell_type": "markdown",
   "id": "5a6f3852",
   "metadata": {},
   "source": [
    "\n",
    "✅ Cálculo do IMC:\n",
    "\n",
    "Use a fórmula fornecida e armazene o resultado em uma variável.\n",
    "\n",
    "\n",
    "\n",
    "\n"
   ]
  },
  {
   "cell_type": "markdown",
   "id": "05c087c7",
   "metadata": {},
   "source": [
    "✅ Classificação Condicional:\n",
    "\n",
    "Utilize if, elif e else para determinar a categoria do IMC.\n",
    "\n",
    "\n",
    "\n"
   ]
  },
  {
   "cell_type": "markdown",
   "id": "84f3d064",
   "metadata": {},
   "source": [
    "✅ Saída Formatada:\n",
    "\n",
    "Mostre a classificação e uma recomendação personalizada (ex: \"Procure um nutricionista\" para obesidade).\n"
   ]
  },
  {
   "cell_type": "markdown",
   "id": "e3db7265",
   "metadata": {},
   "source": [
    "\n",
    "✅ Tratamento de Erros:\n",
    "\n",
    "Se o usuário digitar um valor inválido (negativo ou não numérico), exiba: \"Entrada inválida. Digite apenas números positivos.\""
   ]
  },
  {
   "cell_type": "markdown",
   "id": "5568009c",
   "metadata": {},
   "source": [
    "### 💡 Dicas Extras (Opcional)\n",
    "\n",
    "\n",
    "🔹 Use float(input()) para converter a entrada em número.\n",
    "\n",
    "\n",
    "🔹 Você pode arredondar o IMC com round(imc, 2).\n"
   ]
  },
  {
   "cell_type": "markdown",
   "id": "2ac4049c",
   "metadata": {},
   "source": [
    "### 📤 Entrega\n",
    "\n",
    "Salve seu código em um Jupyter Notebook (.ipynb) e envie-o com o nome:\n",
    "\n",
    "**\"SeuNome - CalculadoraIMC.ipynb\".**\n",
    "\n",
    "Bom trabalho, futuro cientista de dados! 🚀\n",
    "\n"
   ]
  },
  {
   "cell_type": "code",
   "execution_count": 12,
   "id": "6b7810f0",
   "metadata": {},
   "outputs": [
    {
     "name": "stdout",
     "output_type": "stream",
     "text": [
      "Olá adre, sua classificação é:Peso normal, seu imc é de: 22.03.\n"
     ]
    }
   ],
   "source": [
    "#pedindo as informações do usuario\n",
    "nome = input(\"Digite seu nome:\")\n",
    "peso = float(input(\"Digite seu peso:\"))\n",
    "altura = float(input(\"Digite sua altura:\"))\n",
    "\n",
    "#formula para o calculo\n",
    "imc = peso / (altura ** 2)\n",
    "imc_arredondado = round(imc, 2)\n",
    "\n",
    "#colocando as condições\n",
    "if imc <18.5:\n",
    "    print(f\"Olá {nome}, sua classificação é:Abaixo do peso, seu imc é de: {imc_arredondado}.\")\n",
    "\n",
    "elif imc >=18.5 and imc <=24.9:\n",
    "    print(f\"Olá {nome}, sua classificação é:Peso normal, seu imc é de: {imc_arredondado}.\")\n",
    "\n",
    "elif imc >=25.0 and imc <=29.9:\n",
    "    print(f\"Olá {nome},sua classificação é:sobrepeso, seu imc é de: {imc_arredondado}.\")\n",
    "\n",
    "elif imc >=30.0 and imc <=34.9:\n",
    "    print(f\"Olá {nome},Procure um nutricionista,sua classificação é:obesidade grau 1, seu imc é de: {imc_arredondado}.\")\n",
    "\n",
    "elif imc >=35.0 and imc <=39.9:\n",
    "    print(f\"Olá {nome},Procure um nutricionista, sua classificação é:obesidade grau 2, seu imc é de: {imc_arredondado}.\")\n",
    "    \n",
    "elif imc >=40.0:\n",
    "    print(f\"Olá {nome},Procure um nutricionista, sua classificação é:obesidade grau 3, seu imc é de: {imc_arredondado}.\")\n",
    "\n",
    "#senão\n",
    "else:\n",
    "    print(\"Entrada inválida. Digite apenas números positivos ❌\")\n",
    "\n",
    "\n",
    "\n"
   ]
  }
 ],
 "metadata": {
  "kernelspec": {
   "display_name": "Python 3",
   "language": "python",
   "name": "python3"
  },
  "language_info": {
   "codemirror_mode": {
    "name": "ipython",
    "version": 3
   },
   "file_extension": ".py",
   "mimetype": "text/x-python",
   "name": "python",
   "nbconvert_exporter": "python",
   "pygments_lexer": "ipython3",
   "version": "3.13.2"
  }
 },
 "nbformat": 4,
 "nbformat_minor": 5
}
